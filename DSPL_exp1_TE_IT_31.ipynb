{
 "cells": [
  {
   "cell_type": "code",
   "execution_count": 1,
   "id": "96952562-6eb3-47b5-84e8-74ccc3bc953c",
   "metadata": {},
   "outputs": [],
   "source": [
    "import pandas as pd\n",
    "import numpy as np"
   ]
  },
  {
   "cell_type": "code",
   "execution_count": 2,
   "id": "ad367135-250c-45ad-9c36-92f0255c5d1d",
   "metadata": {},
   "outputs": [],
   "source": [
    "df = pd.read_csv(\"/home/vivek/Downloads/archive/Covid Data.csv\") "
   ]
  },
  {
   "cell_type": "code",
   "execution_count": 3,
   "id": "837708e4-ab3b-41c6-9d4e-68c82a7d108a",
   "metadata": {},
   "outputs": [
    {
     "name": "stdout",
     "output_type": "stream",
     "text": [
      "(1048575, 21)\n"
     ]
    }
   ],
   "source": [
    "print(df.shape)"
   ]
  },
  {
   "cell_type": "code",
   "execution_count": 4,
   "id": "8333f9e5-cbd6-43d2-87c5-01a334cad4fb",
   "metadata": {},
   "outputs": [
    {
     "name": "stdout",
     "output_type": "stream",
     "text": [
      "['USMER', 'MEDICAL_UNIT', 'SEX', 'PATIENT_TYPE', 'DATE_DIED', 'INTUBED', 'PNEUMONIA', 'AGE', 'PREGNANT', 'DIABETES', 'COPD', 'ASTHMA', 'INMSUPR', 'HIPERTENSION', 'OTHER_DISEASE', 'CARDIOVASCULAR', 'OBESITY', 'RENAL_CHRONIC', 'TOBACCO', 'CLASIFFICATION_FINAL', 'ICU']\n"
     ]
    }
   ],
   "source": [
    "# getting the columns of the dataset\n",
    "columns = list(df.columns)\n",
    "print(columns)"
   ]
  },
  {
   "cell_type": "code",
   "execution_count": 5,
   "id": "7cabb9c6-ace6-4350-ae0d-21a33153d7ff",
   "metadata": {},
   "outputs": [
    {
     "name": "stdout",
     "output_type": "stream",
     "text": [
      "   USMER  MEDICAL_UNIT  SEX  PATIENT_TYPE   DATE_DIED  INTUBED  PNEUMONIA  \\\n",
      "0      2             1    1             1  03/05/2020       97          1   \n",
      "1      2             1    2             1  03/06/2020       97          1   \n",
      "2      2             1    2             2  09/06/2020        1          2   \n",
      "3      2             1    1             1  12/06/2020       97          2   \n",
      "4      2             1    2             1  21/06/2020       97          2   \n",
      "\n",
      "   AGE  PREGNANT  DIABETES  ...  ASTHMA  INMSUPR  HIPERTENSION  OTHER_DISEASE  \\\n",
      "0   65         2         2  ...       2        2             1              2   \n",
      "1   72        97         2  ...       2        2             1              2   \n",
      "2   55        97         1  ...       2        2             2              2   \n",
      "3   53         2         2  ...       2        2             2              2   \n",
      "4   68        97         1  ...       2        2             1              2   \n",
      "\n",
      "   CARDIOVASCULAR  OBESITY  RENAL_CHRONIC  TOBACCO  CLASIFFICATION_FINAL  ICU  \n",
      "0               2        2              2        2                     3   97  \n",
      "1               2        1              1        2                     5   97  \n",
      "2               2        2              2        2                     3    2  \n",
      "3               2        2              2        2                     7   97  \n",
      "4               2        2              2        2                     3   97  \n",
      "\n",
      "[5 rows x 21 columns]\n"
     ]
    }
   ],
   "source": [
    "# To print first five samples\n",
    "print(df.head()) "
   ]
  },
  {
   "cell_type": "code",
   "execution_count": 6,
   "id": "d3a0546d-2d8e-4551-ad7d-88d65d52509e",
   "metadata": {},
   "outputs": [
    {
     "name": "stdout",
     "output_type": "stream",
     "text": [
      "              USMER  MEDICAL_UNIT           SEX  PATIENT_TYPE       INTUBED  \\\n",
      "count  1.048575e+06  1.048575e+06  1.048575e+06  1.048575e+06  1.048575e+06   \n",
      "mean   1.632194e+00  8.980565e+00  1.499259e+00  1.190765e+00  7.952288e+01   \n",
      "std    4.822084e-01  3.723278e+00  4.999997e-01  3.929041e-01  3.686889e+01   \n",
      "min    1.000000e+00  1.000000e+00  1.000000e+00  1.000000e+00  1.000000e+00   \n",
      "25%    1.000000e+00  4.000000e+00  1.000000e+00  1.000000e+00  9.700000e+01   \n",
      "50%    2.000000e+00  1.200000e+01  1.000000e+00  1.000000e+00  9.700000e+01   \n",
      "75%    2.000000e+00  1.200000e+01  2.000000e+00  1.000000e+00  9.700000e+01   \n",
      "max    2.000000e+00  1.300000e+01  2.000000e+00  2.000000e+00  9.900000e+01   \n",
      "\n",
      "          PNEUMONIA           AGE      PREGNANT      DIABETES          COPD  \\\n",
      "count  1.048575e+06  1.048575e+06  1.048575e+06  1.048575e+06  1.048575e+06   \n",
      "mean   3.346831e+00  4.179410e+01  4.976558e+01  2.186404e+00  2.260569e+00   \n",
      "std    1.191288e+01  1.690739e+01  4.751073e+01  5.424242e+00  5.132258e+00   \n",
      "min    1.000000e+00  0.000000e+00  1.000000e+00  1.000000e+00  1.000000e+00   \n",
      "25%    2.000000e+00  3.000000e+01  2.000000e+00  2.000000e+00  2.000000e+00   \n",
      "50%    2.000000e+00  4.000000e+01  9.700000e+01  2.000000e+00  2.000000e+00   \n",
      "75%    2.000000e+00  5.300000e+01  9.700000e+01  2.000000e+00  2.000000e+00   \n",
      "max    9.900000e+01  1.210000e+02  9.800000e+01  9.800000e+01  9.800000e+01   \n",
      "\n",
      "             ASTHMA       INMSUPR  HIPERTENSION  OTHER_DISEASE  \\\n",
      "count  1.048575e+06  1.048575e+06  1.048575e+06   1.048575e+06   \n",
      "mean   2.242626e+00  2.298132e+00  2.128989e+00   2.435143e+00   \n",
      "std    5.114089e+00  5.462843e+00  5.236397e+00   6.646676e+00   \n",
      "min    1.000000e+00  1.000000e+00  1.000000e+00   1.000000e+00   \n",
      "25%    2.000000e+00  2.000000e+00  2.000000e+00   2.000000e+00   \n",
      "50%    2.000000e+00  2.000000e+00  2.000000e+00   2.000000e+00   \n",
      "75%    2.000000e+00  2.000000e+00  2.000000e+00   2.000000e+00   \n",
      "max    9.800000e+01  9.800000e+01  9.800000e+01   9.800000e+01   \n",
      "\n",
      "       CARDIOVASCULAR       OBESITY  RENAL_CHRONIC       TOBACCO  \\\n",
      "count    1.048575e+06  1.048575e+06   1.048575e+06  1.048575e+06   \n",
      "mean     2.261810e+00  2.125176e+00   2.257180e+00  2.214333e+00   \n",
      "std      5.194850e+00  5.175445e+00   5.135354e+00  5.323097e+00   \n",
      "min      1.000000e+00  1.000000e+00   1.000000e+00  1.000000e+00   \n",
      "25%      2.000000e+00  2.000000e+00   2.000000e+00  2.000000e+00   \n",
      "50%      2.000000e+00  2.000000e+00   2.000000e+00  2.000000e+00   \n",
      "75%      2.000000e+00  2.000000e+00   2.000000e+00  2.000000e+00   \n",
      "max      9.800000e+01  9.800000e+01   9.800000e+01  9.800000e+01   \n",
      "\n",
      "       CLASIFFICATION_FINAL           ICU  \n",
      "count          1.048575e+06  1.048575e+06  \n",
      "mean           5.305653e+00  7.955397e+01  \n",
      "std            1.881165e+00  3.682307e+01  \n",
      "min            1.000000e+00  1.000000e+00  \n",
      "25%            3.000000e+00  9.700000e+01  \n",
      "50%            6.000000e+00  9.700000e+01  \n",
      "75%            7.000000e+00  9.700000e+01  \n",
      "max            7.000000e+00  9.900000e+01  \n"
     ]
    }
   ],
   "source": [
    "#Describing dataset \n",
    "print(df.describe()) "
   ]
  },
  {
   "cell_type": "code",
   "execution_count": 7,
   "id": "a31f1484-b2d9-4c27-a637-d044dbf87cbc",
   "metadata": {},
   "outputs": [
    {
     "name": "stdout",
     "output_type": "stream",
     "text": [
      "USMER                   0\n",
      "MEDICAL_UNIT            0\n",
      "SEX                     0\n",
      "PATIENT_TYPE            0\n",
      "DATE_DIED               0\n",
      "INTUBED                 0\n",
      "PNEUMONIA               0\n",
      "AGE                     0\n",
      "PREGNANT                0\n",
      "DIABETES                0\n",
      "COPD                    0\n",
      "ASTHMA                  0\n",
      "INMSUPR                 0\n",
      "HIPERTENSION            0\n",
      "OTHER_DISEASE           0\n",
      "CARDIOVASCULAR          0\n",
      "OBESITY                 0\n",
      "RENAL_CHRONIC           0\n",
      "TOBACCO                 0\n",
      "CLASIFFICATION_FINAL    0\n",
      "ICU                     0\n",
      "dtype: int64\n",
      "Missing values distribution: \n",
      "USMER                   0.0\n",
      "MEDICAL_UNIT            0.0\n",
      "SEX                     0.0\n",
      "PATIENT_TYPE            0.0\n",
      "DATE_DIED               0.0\n",
      "INTUBED                 0.0\n",
      "PNEUMONIA               0.0\n",
      "AGE                     0.0\n",
      "PREGNANT                0.0\n",
      "DIABETES                0.0\n",
      "COPD                    0.0\n",
      "ASTHMA                  0.0\n",
      "INMSUPR                 0.0\n",
      "HIPERTENSION            0.0\n",
      "OTHER_DISEASE           0.0\n",
      "CARDIOVASCULAR          0.0\n",
      "OBESITY                 0.0\n",
      "RENAL_CHRONIC           0.0\n",
      "TOBACCO                 0.0\n",
      "CLASIFFICATION_FINAL    0.0\n",
      "ICU                     0.0\n",
      "dtype: float64\n"
     ]
    }
   ],
   "source": [
    "#New dataframe \n",
    "new_df = df\n",
    "#new_df.isnull()\n",
    "#Checking for null values \n",
    "print(new_df.isnull().sum()) \n",
    "print(\"Missing values distribution: \")\n",
    "print(new_df.isnull().mean())\n",
    "#print(new_df.shape) \n",
    "#new_df.duplicated()"
   ]
  },
  {
   "cell_type": "code",
   "execution_count": 8,
   "id": "b8eae9c1-76b6-4c9c-8aed-adeca7e72010",
   "metadata": {},
   "outputs": [
    {
     "name": "stdout",
     "output_type": "stream",
     "text": [
      "True\n",
      "0          False\n",
      "1          False\n",
      "2          False\n",
      "3          False\n",
      "4          False\n",
      "           ...  \n",
      "1048570     True\n",
      "1048571    False\n",
      "1048572    False\n",
      "1048573     True\n",
      "1048574    False\n",
      "Length: 1048575, dtype: bool\n",
      "(1048575, 21)\n"
     ]
    }
   ],
   "source": [
    "# #Checking for duplicates\n",
    "print(new_df.duplicated().any()) \n",
    "print(new_df.duplicated())\n",
    "print(new_df.shape) "
   ]
  },
  {
   "cell_type": "code",
   "execution_count": 9,
   "id": "770fc9b9-c812-48ea-9098-9e898c79ad08",
   "metadata": {},
   "outputs": [
    {
     "name": "stdout",
     "output_type": "stream",
     "text": [
      "Column datatypes: \n",
      "USMER                    int64\n",
      "MEDICAL_UNIT             int64\n",
      "SEX                      int64\n",
      "PATIENT_TYPE             int64\n",
      "DATE_DIED               object\n",
      "INTUBED                  int64\n",
      "PNEUMONIA                int64\n",
      "AGE                      int64\n",
      "PREGNANT                 int64\n",
      "DIABETES                 int64\n",
      "COPD                     int64\n",
      "ASTHMA                   int64\n",
      "INMSUPR                  int64\n",
      "HIPERTENSION             int64\n",
      "OTHER_DISEASE            int64\n",
      "CARDIOVASCULAR           int64\n",
      "OBESITY                  int64\n",
      "RENAL_CHRONIC            int64\n",
      "TOBACCO                  int64\n",
      "CLASIFFICATION_FINAL     int64\n",
      "ICU                      int64\n",
      "dtype: object\n"
     ]
    }
   ],
   "source": [
    "print(\"Column datatypes: \")\n",
    "print(new_df.dtypes)"
   ]
  },
  {
   "cell_type": "code",
   "execution_count": 13,
   "id": "d8a1795f-e083-4e21-a9e8-65ec6554353a",
   "metadata": {},
   "outputs": [
    {
     "name": "stdout",
     "output_type": "stream",
     "text": [
      "   USMER  MEDICAL_UNIT  SEX  PATIENT_TYPE   DATE_DIED  INTUBED  PNEUMONIA  \\\n",
      "0      2             1    1             1  03/05/2020       97          1   \n",
      "1      2             1    2             1  03/06/2020       97          1   \n",
      "2      2             1    2             2  09/06/2020        1          2   \n",
      "3      2             1    1             1  12/06/2020       97          2   \n",
      "4      2             1    2             1  21/06/2020       97          2   \n",
      "\n",
      "   AGE  PREGNANT  DIABETES  ...  ASTHMA  INMSUPR  HIPERTENSION  OTHER_DISEASE  \\\n",
      "0   65         2         2  ...       2        2             1              2   \n",
      "1   72        97         2  ...       2        2             1              2   \n",
      "2   55        97         1  ...       2        2             2              2   \n",
      "3   53         2         2  ...       2        2             2              2   \n",
      "4   68        97         1  ...       2        2             1              2   \n",
      "\n",
      "   CARDIOVASCULAR  OBESITY  RENAL_CHRONIC  TOBACCO  CLASIFFICATION_FINAL  ICU  \n",
      "0               2        2              2        2                     3   97  \n",
      "1               2        1              1        2                     5   97  \n",
      "2               2        2              2        2                     3    2  \n",
      "3               2        2              2        2                     7   97  \n",
      "4               2        2              2        2                     3   97  \n",
      "\n",
      "[5 rows x 21 columns]\n",
      "(1048575, 21)\n"
     ]
    },
    {
     "name": "stderr",
     "output_type": "stream",
     "text": [
      "/tmp/ipykernel_26002/2496381397.py:2: FutureWarning: A value is trying to be set on a copy of a DataFrame or Series through chained assignment using an inplace method.\n",
      "The behavior will change in pandas 3.0. This inplace method will never work because the intermediate object on which we are setting values always behaves as a copy.\n",
      "\n",
      "For example, when doing 'df[col].method(value, inplace=True)', try using 'df.method({col: value}, inplace=True)' or df[col] = df[col].method(value) instead, to perform the operation inplace on the original object.\n",
      "\n",
      "\n",
      "  new_df[\"SEX\"].replace({\"male\":\"1\", \"female\":\"0\"}, inplace = True)\n"
     ]
    }
   ],
   "source": [
    "#Replacing string values with integer \n",
    "new_df[\"SEX\"].replace({\"male\":\"1\", \"female\":\"0\"}, inplace = True) \n",
    "print(new_df.head())\n",
    "print(new_df.shape)"
   ]
  },
  {
   "cell_type": "code",
   "execution_count": 14,
   "id": "acece141-7383-4911-ada6-d9f6afb3014e",
   "metadata": {},
   "outputs": [
    {
     "name": "stdout",
     "output_type": "stream",
     "text": [
      "[ 65  72  55  53  68  40  64  37  25  38  24  30  48  23  80  61  54  59\n",
      "  45  26  32  49  39  27  57  20  56  47  50  46  43  28  33  16  62  58\n",
      "  36  44  66  52  51  35  19  90  34  22  29  14  31  42  15   1   0  17\n",
      "  41   2  10  12  13   4   7   6   8  60   5  63  75  81  67  18  70  88\n",
      "  85  92  73  74  78  76  82  77  86  71  95  87  83  84  79  69  89   3\n",
      "  97  93 100  91  21 103  11   9  94  96 101 107 102  98  99 109 119 116\n",
      " 105 104 111 114 120 106 108 110 118 117 121 115 113]\n"
     ]
    }
   ],
   "source": [
    "#Finding unique values in \"Region\" \n",
    "print(new_df[\"AGE\"].unique()) "
   ]
  },
  {
   "cell_type": "code",
   "execution_count": null,
   "id": "c0ce9148-c663-4da7-bcf3-54c769bacd09",
   "metadata": {},
   "outputs": [],
   "source": []
  }
 ],
 "metadata": {
  "kernelspec": {
   "display_name": "Python 3 (ipykernel)",
   "language": "python",
   "name": "python3"
  },
  "language_info": {
   "codemirror_mode": {
    "name": "ipython",
    "version": 3
   },
   "file_extension": ".py",
   "mimetype": "text/x-python",
   "name": "python",
   "nbconvert_exporter": "python",
   "pygments_lexer": "ipython3",
   "version": "3.12.2"
  }
 },
 "nbformat": 4,
 "nbformat_minor": 5
}
